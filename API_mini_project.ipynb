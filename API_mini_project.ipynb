{
 "cells": [
  {
   "cell_type": "code",
   "execution_count": 1,
   "metadata": {},
   "outputs": [],
   "source": [
    "# Store the API key as a string - according to PEP8, constants are always named in all upper case\n",
    "API_KEY = 'api-key'"
   ]
  },
  {
   "cell_type": "code",
   "execution_count": 99,
   "metadata": {},
   "outputs": [],
   "source": [
    "# First, import the relevant modules\n",
    "\n",
    "import requests\n",
    "import json\n",
    "from datetime import datetime"
   ]
  },
  {
   "cell_type": "code",
   "execution_count": 23,
   "metadata": {},
   "outputs": [],
   "source": [
    "# Now, call the Quandl API and pull out a small sample of the data (only one day) to get a glimpse\n",
    "#key=SPLG4P7Dhu-DE7E1deW\n",
    "# into the JSON structure that will be returned\n",
    "res=requests.get (\"https://www.quandl.com/api/v3/datasets/FSE/AFX_X.json?start_date=2019-04-29&end_date=2019-04-29&api_key=\"+API_KEY)\n",
    "Json_data=res.json()"
   ]
  },
  {
   "cell_type": "code",
   "execution_count": 24,
   "metadata": {},
   "outputs": [
    {
     "name": "stdout",
     "output_type": "stream",
     "text": [
      "{'dataset': {'id': 10095370, 'dataset_code': 'AFX_X', 'database_code': 'FSE', 'name': 'Carl Zeiss Meditec (AFX_X)', 'description': 'Stock Prices for Carl Zeiss Meditec (2020-02-14) from the Frankfurt Stock Exchange.<br><br>Trading System: Xetra<br><br>ISIN: DE0005313704', 'refreshed_at': '2020-02-28T22:19:34.905Z', 'newest_available_date': '2020-02-28', 'oldest_available_date': '2000-06-07', 'column_names': ['Date', 'Open', 'High', 'Low', 'Close', 'Change', 'Traded Volume', 'Turnover', 'Last Price of the Day', 'Daily Traded Units', 'Daily Turnover'], 'frequency': 'daily', 'type': 'Time Series', 'premium': False, 'limit': None, 'transform': None, 'column_index': None, 'start_date': '2019-04-29', 'end_date': '2019-04-29', 'data': [['2019-04-29', 86.7, 87.65, 85.9, 87.5, None, 150210.0, 13060972.0, None, None, None]], 'collapse': None, 'order': None, 'database_id': 6129}}\n"
     ]
    }
   ],
   "source": [
    "# Inspect the JSON structure of the object you created, and take note of how nested it is,\n",
    "# as well as the overall structure\n",
    "print(Json_data)"
   ]
  },
  {
   "cell_type": "markdown",
   "metadata": {},
   "source": [
    "# These are your tasks for this mini project:\n",
    "\n",
    "1. Collect data from the Franfurt Stock Exchange, for the ticker AFX_X, for the whole year 2017 (keep in mind that the date format is YYYY-MM-DD).\n",
    "2. Convert the returned JSON object into a Python dictionary.\n",
    "3. Calculate what the highest and lowest opening prices were for the stock in this period.\n",
    "4. What was the largest change in any one day (based on High and Low price)?\n",
    "5. What was the largest change between any two days (based on Closing Price)?\n",
    "6. What was the average daily trading volume during this year?\n",
    "7. (Optional) What was the median trading volume during this year. (Note: you may need to implement your own function for calculating the median.)"
   ]
  },
  {
   "cell_type": "markdown",
   "metadata": {
    "collapsed": true
   },
   "source": [
    "# Task1"
   ]
  },
  {
   "cell_type": "code",
   "execution_count": 10,
   "metadata": {},
   "outputs": [],
   "source": [
    "# Collecting the data from Franfurt Stock Exchange, for ticker AFX_X for the year 2017\n",
    "\n",
    "afx_x_2017 = requests.get(\"https://www.quandl.com/api/v3/datasets/FSE/AFX_X?start_date=2017-01-01&end_date=2017-12-31&api_key=\" + API_KEY)"
   ]
  },
  {
   "cell_type": "markdown",
   "metadata": {},
   "source": [
    "# Task2"
   ]
  },
  {
   "cell_type": "code",
   "execution_count": 11,
   "metadata": {},
   "outputs": [
    {
     "name": "stdout",
     "output_type": "stream",
     "text": [
      "<class 'dict'>\n"
     ]
    }
   ],
   "source": [
    "dict_afx_x_2017=json.loads(afx_x_2017.text)\n",
    "print(type(dict_afx_x_2017))\n",
    "#print(dict_afx_x_2017)"
   ]
  },
  {
   "cell_type": "markdown",
   "metadata": {},
   "source": [
    "# task3"
   ]
  },
  {
   "cell_type": "code",
   "execution_count": 72,
   "metadata": {
    "scrolled": true
   },
   "outputs": [
    {
     "name": "stdout",
     "output_type": "stream",
     "text": [
      "Higehst opening price in period 2017 is $53.11\n",
      "Lowest Opening price in period 2017 is $34.0\n"
     ]
    }
   ],
   "source": [
    "list_open=dict_afx_x_2017['dataset']['data']\n",
    "#print(list_open)\n",
    "open=[(x[1]) for x in list_open if x[1] is not None]\n",
    "\n",
    "print(\"Higehst opening price in period 2017 is $\"+str(max(open)))\n",
    "print(\"Lowest Opening price in period 2017 is $\"+str(min(open)))"
   ]
  },
  {
   "cell_type": "markdown",
   "metadata": {},
   "source": [
    "# Task4"
   ]
  },
  {
   "cell_type": "code",
   "execution_count": 89,
   "metadata": {},
   "outputs": [
    {
     "name": "stdout",
     "output_type": "stream",
     "text": [
      "Largest change in any day based on High and Low price is: $2.8100000000000023\n"
     ]
    }
   ],
   "source": [
    "max_change=max([i[2]-i[3] for i in dict_afx_x_2017['dataset']['data'] ])\n",
    "print('Largest change in any day based on High and Low price is:' + ' $' +str(max_change))"
   ]
  },
  {
   "cell_type": "markdown",
   "metadata": {},
   "source": [
    "# Task5"
   ]
  },
  {
   "cell_type": "code",
   "execution_count": 106,
   "metadata": {},
   "outputs": [
    {
     "name": "stdout",
     "output_type": "stream",
     "text": [
      "2.1300000000000026\n"
     ]
    }
   ],
   "source": [
    "def con(str):\n",
    "    date_object = datetime.strptime(str, '%Y-%m-%d').date()\n",
    "    return date_object\n",
    "    \n",
    "    \n",
    "    \n",
    "change_btw_two_days=[x[4]-y[4] for x in dict_afx_x_2017['dataset']['data'] for y in dict_afx_x_2017['dataset']['data'] if (con(x[0])- con(y[0])).days==2]\n",
    "print(max(change_btw_two_days))"
   ]
  },
  {
   "cell_type": "markdown",
   "metadata": {},
   "source": [
    "# task6"
   ]
  },
  {
   "cell_type": "code",
   "execution_count": 109,
   "metadata": {},
   "outputs": [
    {
     "name": "stdout",
     "output_type": "stream",
     "text": [
      "The Average volume during this year is: 89124\n"
     ]
    }
   ],
   "source": [
    "# Average trading volume in 2017 \n",
    "volume=[x[6] for x in dict_afx_x_2017['dataset']['data']]\n",
    "print('The Average volume in the year 2017  is: ' + str(round(sum(volume)/len(volume))))\n",
    "\n",
    "\n"
   ]
  },
  {
   "cell_type": "markdown",
   "metadata": {},
   "source": [
    "# Task7"
   ]
  },
  {
   "cell_type": "code",
   "execution_count": 111,
   "metadata": {},
   "outputs": [
    {
     "name": "stdout",
     "output_type": "stream",
     "text": [
      "Median trading volume during this year is: 76600.0\n"
     ]
    }
   ],
   "source": [
    "# Median trading volume during this year\n",
    "\n",
    "trade_vol = sorted([daily[6] for daily in dict_afx_x_2017['dataset']['data']])\n",
    "trade_len = len(trade_vol)\n",
    "half_len = trade_len/2\n",
    "\n",
    "if trade_len%2 == 1:\n",
    "    print('Median trading volume during this year is: ' + str(trade_vol[round(half_len)]))\n",
    "else:\n",
    "    print('Median trading volume during this year is: ' + str(trade_vol[half_len]+trade_vol[half_len+1])/2)"
   ]
  },
  {
   "cell_type": "code",
   "execution_count": null,
   "metadata": {},
   "outputs": [],
   "source": []
  }
 ],
 "metadata": {
  "kernelspec": {
   "display_name": "Python 3",
   "language": "python",
   "name": "python3"
  },
  "language_info": {
   "codemirror_mode": {
    "name": "ipython",
    "version": 3
   },
   "file_extension": ".py",
   "mimetype": "text/x-python",
   "name": "python",
   "nbconvert_exporter": "python",
   "pygments_lexer": "ipython3",
   "version": "3.7.4"
  }
 },
 "nbformat": 4,
 "nbformat_minor": 2
}
